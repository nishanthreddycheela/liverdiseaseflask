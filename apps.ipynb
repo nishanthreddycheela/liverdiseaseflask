{
 "cells": [
  {
   "cell_type": "code",
   "execution_count": null,
   "id": "9669b38a-acf3-47fc-9792-8ccae20c4652",
   "metadata": {},
   "outputs": [],
   "source": [
    "!pip install waitress\n"
   ]
  },
  {
   "cell_type": "code",
   "execution_count": null,
   "id": "9a6eafd0-b0a4-444e-a41c-b58d67330239",
   "metadata": {},
   "outputs": [],
   "source": [
    "from flask import Flask, request, render_template\n",
    "import numpy as np\n",
    "import joblib\n",
    "\n",
    "app = Flask(__name__)\n",
    "\n",
    "# Load trained model\n",
    "model = joblib.load(\"model.pkl\")\n",
    "\n",
    "@app.route(\"/\")\n",
    "def home():\n",
    "    return render_template(\"index.html\")\n",
    "\n",
    "@app.route(\"/predict\", methods=[\"POST\"])\n",
    "def predict():\n",
    "    try:\n",
    "        # Collect all 12 feature inputs from the form\n",
    "        features = [\n",
    "            float(request.form[\"feature1\"]),\n",
    "            float(request.form[\"feature2\"]),\n",
    "            float(request.form[\"feature3\"]),\n",
    "            float(request.form[\"feature4\"]),\n",
    "            float(request.form[\"feature5\"]),\n",
    "            float(request.form[\"feature6\"]),\n",
    "            float(request.form[\"feature7\"]),\n",
    "            float(request.form[\"feature8\"]),\n",
    "            float(request.form[\"feature9\"]),\n",
    "            float(request.form[\"feature10\"]),\n",
    "            float(request.form[\"feature11\"]),\n",
    "            float(request.form[\"feature12\"]),\n",
    "        ]\n",
    "\n",
    "        # Convert the list to a numpy array\n",
    "        features = np.array(features).reshape(1, -1)\n",
    "\n",
    "        # Make prediction\n",
    "        prediction = model.predict(features)\n",
    "\n",
    "        # Interpret result\n",
    "        result = \"Liver Disease Detected\" if prediction[0] == 1 else \"No Liver Disease\"\n",
    "\n",
    "        return render_template(\"index.html\", prediction=result)\n",
    "\n",
    "    except Exception as e:\n",
    "        return str(e)\n",
    "\n",
    "if __name__ == \"__main__\":\n",
    "    app.run(debug=True)\n",
    "\n",
    "    \n"
   ]
  },
  {
   "cell_type": "code",
   "execution_count": null,
   "id": "a19da0b7-252c-4c97-a1e8-818b0034082e",
   "metadata": {},
   "outputs": [],
   "source": []
  }
 ],
 "metadata": {
  "kernelspec": {
   "display_name": "Python 3 (ipykernel)",
   "language": "python",
   "name": "python3"
  },
  "language_info": {
   "codemirror_mode": {
    "name": "ipython",
    "version": 3
   },
   "file_extension": ".py",
   "mimetype": "text/x-python",
   "name": "python",
   "nbconvert_exporter": "python",
   "pygments_lexer": "ipython3",
   "version": "3.12.4"
  }
 },
 "nbformat": 4,
 "nbformat_minor": 5
}
